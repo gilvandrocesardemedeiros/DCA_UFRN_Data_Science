{
 "cells": [
  {
   "cell_type": "code",
   "execution_count": 1,
   "metadata": {
    "id": "fpYsz1VebmA7"
   },
   "outputs": [],
   "source": [
    "import numpy as np\n",
    "import pandas as pd"
   ]
  },
  {
   "cell_type": "markdown",
   "metadata": {},
   "source": [
    "# Limpando dados de 2018"
   ]
  },
  {
   "cell_type": "code",
   "execution_count": 2,
   "metadata": {
    "id": "unhFLEK8bs5_"
   },
   "outputs": [],
   "source": [
    "ufs = [\"ac\",\"al\",\"am\",\"ap\",\"ba\",\"br\",\"ce\",\"df\",\"es\",\"go\",\"ma\",\"mg\",\"ms\",\"mt\",\"pa\",\"pb\",\"pe\",\"pi\",\"pr\",\"rj\",\"rn\",\n",
    "     \"ro\",\"rr\",\"rs\",\"sc\",\"se\",\"sp\",\"to\"]\n",
    "ufs = [uf.upper() for uf in ufs]\n",
    "\n",
    "partidos = ['AVANTE', 'DC', 'DEM', 'MDB', 'NOVO', 'PATRIOTA', 'PC do B', 'PCB',\n",
    "       'PCO', 'PDT', 'PHS', 'PMB', 'PMN', 'PODE', 'PP', 'PPL', 'PPS',\n",
    "       'PR', 'PRB', 'PROS', 'PRP', 'PRTB', 'PSB', 'PSC', 'PSD', 'PSDB',\n",
    "       'PSL', 'PSOL', 'PSTU', 'PT', 'PTB', 'PTC', 'PV', 'REDE',\n",
    "       'SOLIDARIEDADE']"
   ]
  },
  {
   "cell_type": "code",
   "execution_count": 3,
   "metadata": {
    "id": "NdQrfa_F2rMD"
   },
   "outputs": [],
   "source": [
    "def lerDados(uf):\n",
    "  #Leitura dos dados de 2018\n",
    "  dados2018 = pd.read_csv(\"consulta_cand_2018/consulta_cand_2018_{}.csv\".format(uf),\n",
    "                          sep = \";\", encoding = \"latin-1\")\n",
    "  #Filtrando apenas eleitos\n",
    "  dados2018 = dados2018[(dados2018[\"DS_SIT_TOT_TURNO\"] == \"ELEITO POR QP\").values | (dados2018[\"DS_SIT_TOT_TURNO\"] == \"ELEITO\").values | (dados2018[\"DS_SIT_TOT_TURNO\"] == \"ELEITO POR MÉDIA\").values].reset_index(drop = True)\n",
    "  dados2018 = dados2018.drop_duplicates()\n",
    "  #Generalizando suplentes de senadores com nome de \"SUPLENTE\"\n",
    "  dados2018[\"DS_CARGO\"] = dados2018[\"DS_CARGO\"].replace(\"1º SUPLENTE\", \"SUPLENTE\").replace(\"2º SUPLENTE\", \"SUPLENTE\")\n",
    "  return dados2018"
   ]
  },
  {
   "cell_type": "code",
   "execution_count": 4,
   "metadata": {
    "id": "ctX2pcd-zda6"
   },
   "outputs": [],
   "source": [
    "dadosFinal = pd.DataFrame(columns=[\"PARTIDO\", \"UF\", \"DEPUTADO ESTADUAL\", \"DEPUTADO FEDERAL\", \"SENADOR\", \"SUPLENTE\", \"VICE-GOVERNADOR\", \"GOVERNADOR\", \"VICE-PRESIDENTE\", \"PRESIDENTE\"]).set_index(\"PARTIDO\")"
   ]
  },
  {
   "cell_type": "code",
   "execution_count": 5,
   "metadata": {
    "colab": {
     "base_uri": "https://localhost:8080/"
    },
    "id": "Irwx94ze13__",
    "outputId": "2527495b-771a-436c-9759-ca6f4c38c812"
   },
   "outputs": [
    {
     "name": "stdout",
     "output_type": "stream",
     "text": [
      "AC\n",
      "AL\n",
      "AM\n",
      "AP\n",
      "BA\n",
      "BR\n",
      "CE\n",
      "DF\n",
      "ES\n",
      "GO\n",
      "MA\n",
      "MG\n",
      "MS\n",
      "MT\n",
      "PA\n",
      "PB\n",
      "PE\n",
      "PI\n",
      "PR\n",
      "RJ\n",
      "RN\n",
      "RO\n",
      "RR\n",
      "RS\n",
      "SC\n",
      "SE\n",
      "SP\n",
      "TO\n"
     ]
    }
   ],
   "source": [
    "for uf in ufs:\n",
    "  print(uf)\n",
    "  dados2018 = lerDados(uf)\n",
    "  dadosAUX = pd.DataFrame(columns=[\"PARTIDO\", \"UF\", \"DEPUTADO ESTADUAL\", \"DEPUTADO FEDERAL\", \"SENADOR\", \"SUPLENTE\", \"VICE-GOVERNADOR\", \"GOVERNADOR\", \"VICE-PRESIDENTE\", \"PRESIDENTE\"])\n",
    "  dadosAUX[\"PARTIDO\"] = partidos\n",
    "  dadosAUX = dadosAUX.set_index(\"PARTIDO\")\n",
    "  for partido, row in dadosAUX.iterrows():\n",
    "    dadosAUX.loc[partido] = dados2018.loc[dados2018[\"SG_PARTIDO\"] == partido, \"DS_CARGO\"].value_counts()\n",
    "  dadosAUX[\"UF\"] = uf\n",
    "  dadosAUX = dadosAUX.fillna(0)\n",
    "  dadosFinal = pd.concat([dadosFinal, dadosAUX])"
   ]
  },
  {
   "cell_type": "code",
   "execution_count": 6,
   "metadata": {
    "id": "LB28SEF49goB"
   },
   "outputs": [],
   "source": [
    "for col in dadosFinal.columns:\n",
    "  if col != \"UF\":\n",
    "    dadosFinal[col] = dadosFinal[col].astype(int)"
   ]
  },
  {
   "cell_type": "code",
   "execution_count": 7,
   "metadata": {},
   "outputs": [],
   "source": [
    "dadosFinal = dadosFinal.reset_index()"
   ]
  },
  {
   "cell_type": "code",
   "execution_count": 8,
   "metadata": {
    "colab": {
     "base_uri": "https://localhost:8080/",
     "height": 455
    },
    "id": "qZsr_BteuoN6",
    "outputId": "e67b3abd-7813-4b93-e340-c5fff7701d64"
   },
   "outputs": [],
   "source": [
    "dadosFinal.to_csv(\"Data_To_Dashboard/Resumo_Eleitos_2018.csv\", index = False)"
   ]
  },
  {
   "cell_type": "code",
   "execution_count": 9,
   "metadata": {},
   "outputs": [],
   "source": [
    "dadosFinal = pd.DataFrame(columns=[\"SG_PARTIDO\", \"SG_UF\", 'DS_CARGO','NR_IDADE_DATA_POSSE','DS_GENERO','DS_GRAU_INSTRUCAO','DS_COR_RACA','DS_OCUPACAO'])"
   ]
  },
  {
   "cell_type": "code",
   "execution_count": 10,
   "metadata": {},
   "outputs": [
    {
     "name": "stdout",
     "output_type": "stream",
     "text": [
      "AC\n",
      "AL\n",
      "AM\n",
      "AP\n",
      "BA\n",
      "BR\n",
      "CE\n",
      "DF\n",
      "ES\n",
      "GO\n",
      "MA\n",
      "MG\n",
      "MS\n",
      "MT\n",
      "PA\n",
      "PB\n",
      "PE\n",
      "PI\n",
      "PR\n",
      "RJ\n",
      "RN\n",
      "RO\n",
      "RR\n",
      "RS\n",
      "SC\n",
      "SE\n",
      "SP\n",
      "TO\n"
     ]
    }
   ],
   "source": [
    "for uf in ufs:\n",
    "  print(uf)\n",
    "  dados2018 = lerDados(uf)[[\"SG_PARTIDO\", \"SG_UF\", 'DS_CARGO','NR_IDADE_DATA_POSSE','DS_GENERO','DS_GRAU_INSTRUCAO','DS_COR_RACA','DS_OCUPACAO']]\n",
    "  dadosFinal = pd.concat([dadosFinal, dados2018])"
   ]
  },
  {
   "cell_type": "code",
   "execution_count": 11,
   "metadata": {},
   "outputs": [],
   "source": [
    "dadosFinal.to_csv(\"Data_To_Dashboard/Resumo_Perfil_Candidatos_2018.csv\", index = False)"
   ]
  },
  {
   "cell_type": "markdown",
   "metadata": {},
   "source": [
    "# Limpando dados de 2020"
   ]
  },
  {
   "cell_type": "code",
   "execution_count": 12,
   "metadata": {},
   "outputs": [],
   "source": [
    "partidos = ['AVANTE', 'CIDADANIA', 'DC', 'DEM', 'MDB', 'NOVO', 'PATRIOTA',\n",
    "       'PC do B', 'PCB', 'PCO', 'PDT', 'PL', 'PMB', 'PMN', 'PODE', 'PP',\n",
    "       'PROS', 'PRTB', 'PSB', 'PSC', 'PSD', 'PSDB', 'PSL', 'PSOL', 'PSTU',\n",
    "       'PT', 'PTB', 'PTC', 'PV', 'REDE', 'REPUBLICANOS', 'SOLIDARIEDADE',\n",
    "       'UP']"
   ]
  },
  {
   "cell_type": "code",
   "execution_count": 13,
   "metadata": {},
   "outputs": [],
   "source": [
    "def lerDados(uf):\n",
    "  #Leitura dos dados de 2020\n",
    "  dados2020 = pd.read_csv(\"consulta_cand_2020/consulta_cand_2020_{}.csv\".format(uf),\n",
    "                          sep = \";\", encoding = \"latin-1\")\n",
    "  #Filtrando apenas eleitos\n",
    "  dados2020 = dados2020[(dados2020[\"DS_SIT_TOT_TURNO\"] == \"ELEITO POR QP\").values | (dados2020[\"DS_SIT_TOT_TURNO\"] == \"ELEITO\").values | (dados2020[\"DS_SIT_TOT_TURNO\"] == \"ELEITO POR MÉDIA\").values].reset_index(drop = True)\n",
    "  dados2020 = dados2020.drop_duplicates()\n",
    "  return dados2020"
   ]
  },
  {
   "cell_type": "code",
   "execution_count": 14,
   "metadata": {},
   "outputs": [],
   "source": [
    "dadosFinal = pd.DataFrame(columns=[\"PARTIDO\", \"UF\", \"PREFEITO\", \"VICE-PREFEITO\", \"VEREADOR\"]).set_index(\"PARTIDO\")"
   ]
  },
  {
   "cell_type": "code",
   "execution_count": 15,
   "metadata": {},
   "outputs": [
    {
     "name": "stdout",
     "output_type": "stream",
     "text": [
      "AC\n",
      "AL\n",
      "AM\n",
      "AP\n",
      "BA\n",
      "BR\n",
      "UF não encontrada\n",
      "CE\n",
      "DF\n",
      "UF não encontrada\n",
      "ES\n",
      "GO\n",
      "MA\n",
      "MG\n",
      "MS\n",
      "MT\n",
      "PA\n",
      "PB\n",
      "PE\n",
      "PI\n",
      "PR\n",
      "RJ\n",
      "RN\n",
      "RO\n",
      "RR\n",
      "RS\n",
      "SC\n",
      "SE\n",
      "SP\n",
      "TO\n"
     ]
    }
   ],
   "source": [
    "for uf in ufs:\n",
    "    print(uf)\n",
    "    try:\n",
    "        dados2020 = lerDados(uf)\n",
    "        dadosAUX = pd.DataFrame(columns=[\"PARTIDO\", \"UF\", \"PREFEITO\", \"VICE-PREFEITO\", \"VEREADOR\"])\n",
    "        dadosAUX[\"PARTIDO\"] = partidos\n",
    "        dadosAUX = dadosAUX.set_index(\"PARTIDO\")\n",
    "        for partido, row in dadosAUX.iterrows():\n",
    "            dadosAUX.loc[partido] = dados2020.loc[dados2020[\"SG_PARTIDO\"] == partido, \"DS_CARGO\"].value_counts()\n",
    "        dadosAUX[\"UF\"] = uf\n",
    "        dadosAUX = dadosAUX.fillna(0)\n",
    "        dadosFinal = pd.concat([dadosFinal, dadosAUX])\n",
    "    except:\n",
    "        print(\"UF não encontrada\")"
   ]
  },
  {
   "cell_type": "code",
   "execution_count": 16,
   "metadata": {},
   "outputs": [],
   "source": [
    "for col in dadosFinal.columns:\n",
    "  if col != \"UF\":\n",
    "    dadosFinal[col] = dadosFinal[col].astype(int)"
   ]
  },
  {
   "cell_type": "code",
   "execution_count": 17,
   "metadata": {},
   "outputs": [],
   "source": [
    "dadosFinal = dadosFinal.reset_index()"
   ]
  },
  {
   "cell_type": "code",
   "execution_count": 18,
   "metadata": {},
   "outputs": [],
   "source": [
    "dadosFinal.to_csv(\"Data_To_Dashboard/Resumo_Eleitos_2020.csv\", index = False)"
   ]
  },
  {
   "cell_type": "code",
   "execution_count": 19,
   "metadata": {},
   "outputs": [],
   "source": [
    "dadosFinal = pd.DataFrame(columns=[\"SG_PARTIDO\", \"SG_UF\", 'DS_CARGO','NR_IDADE_DATA_POSSE','DS_GENERO','DS_GRAU_INSTRUCAO','DS_COR_RACA','DS_OCUPACAO'])"
   ]
  },
  {
   "cell_type": "code",
   "execution_count": 20,
   "metadata": {},
   "outputs": [
    {
     "name": "stdout",
     "output_type": "stream",
     "text": [
      "AC\n",
      "AL\n",
      "AM\n",
      "AP\n",
      "BA\n",
      "BR\n",
      "UF não encontrada\n",
      "CE\n",
      "DF\n",
      "UF não encontrada\n",
      "ES\n",
      "GO\n",
      "MA\n",
      "MG\n",
      "MS\n",
      "MT\n",
      "PA\n",
      "PB\n",
      "PE\n",
      "PI\n",
      "PR\n",
      "RJ\n",
      "RN\n",
      "RO\n",
      "RR\n",
      "RS\n",
      "SC\n",
      "SE\n",
      "SP\n",
      "TO\n"
     ]
    }
   ],
   "source": [
    "for uf in ufs:\n",
    "    try:\n",
    "        print(uf)\n",
    "        dados2020 = lerDados(uf)[[\"SG_PARTIDO\", \"SG_UF\", 'DS_CARGO','NR_IDADE_DATA_POSSE','DS_GENERO','DS_GRAU_INSTRUCAO','DS_COR_RACA','DS_OCUPACAO']]\n",
    "        dadosFinal = pd.concat([dadosFinal, dados2020])\n",
    "    except:\n",
    "        print(\"UF não encontrada\")"
   ]
  },
  {
   "cell_type": "code",
   "execution_count": 21,
   "metadata": {},
   "outputs": [],
   "source": [
    "dadosFinal.to_csv(\"Data_To_Dashboard/Resumo_Perfil_Candidatos_2020.csv\", index = False)"
   ]
  }
 ],
 "metadata": {
  "colab": {
   "collapsed_sections": [],
   "name": "Cleaning_Data.ipynb",
   "provenance": []
  },
  "kernelspec": {
   "display_name": "Python 3",
   "language": "python",
   "name": "python3"
  },
  "language_info": {
   "codemirror_mode": {
    "name": "ipython",
    "version": 3
   },
   "file_extension": ".py",
   "mimetype": "text/x-python",
   "name": "python",
   "nbconvert_exporter": "python",
   "pygments_lexer": "ipython3",
   "version": "3.8.5"
  }
 },
 "nbformat": 4,
 "nbformat_minor": 1
}
